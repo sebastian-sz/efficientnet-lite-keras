{
  "nbformat": 4,
  "nbformat_minor": 0,
  "metadata": {
    "colab": {
      "name": "efficient_net_lite_original_outputs.ipynb",
      "provenance": [],
      "collapsed_sections": [],
      "toc_visible": true
    },
    "kernelspec": {
      "name": "python3",
      "display_name": "Python 3"
    },
    "language_info": {
      "name": "python"
    }
  },
  "cells": [
    {
      "cell_type": "markdown",
      "metadata": {
        "id": "ga0P7FylNf--"
      },
      "source": [
        "# Setup original repo"
      ]
    },
    {
      "cell_type": "code",
      "metadata": {
        "colab": {
          "base_uri": "https://localhost:8080/"
        },
        "id": "RwvyLt8AxBQ-",
        "outputId": "cf02969a-db01-49ad-8e5f-cbcac53df524"
      },
      "source": [
        "!git clone https://github.com/tensorflow/tpu.git"
      ],
      "execution_count": 1,
      "outputs": [
        {
          "output_type": "stream",
          "text": [
            "Cloning into 'tpu'...\n",
            "remote: Enumerating objects: 121, done.\u001b[K\n",
            "remote: Counting objects: 100% (121/121), done.\u001b[K\n",
            "remote: Compressing objects: 100% (86/86), done.\u001b[K\n",
            "remote: Total 9919 (delta 62), reused 64 (delta 35), pack-reused 9798\u001b[K\n",
            "Receiving objects: 100% (9919/9919), 24.33 MiB | 28.87 MiB/s, done.\n",
            "Resolving deltas: 100% (7100/7100), done.\n"
          ],
          "name": "stdout"
        }
      ]
    },
    {
      "cell_type": "code",
      "metadata": {
        "colab": {
          "base_uri": "https://localhost:8080/"
        },
        "id": "9IYBId_mxJKl",
        "outputId": "97204caa-7dca-4873-ab5e-f26eec145443"
      },
      "source": [
        "!cd tpu/models; pip install -e ."
      ],
      "execution_count": 2,
      "outputs": [
        {
          "output_type": "stream",
          "text": [
            "Obtaining file:///content/tpu/models\n",
            "Installing collected packages: cloud-tpu-samples\n",
            "  Running setup.py develop for cloud-tpu-samples\n",
            "Successfully installed cloud-tpu-samples\n"
          ],
          "name": "stdout"
        }
      ]
    },
    {
      "cell_type": "code",
      "metadata": {
        "colab": {
          "base_uri": "https://localhost:8080/"
        },
        "id": "cgQJtbXuxVHk",
        "outputId": "9ceb0a4d-6748-4c9d-e11c-6506561491e2"
      },
      "source": [
        "%cd tpu/models/official/efficientnet/lite"
      ],
      "execution_count": 3,
      "outputs": [
        {
          "output_type": "stream",
          "text": [
            "/content/tpu/models/official/efficientnet/lite\n"
          ],
          "name": "stdout"
        }
      ]
    },
    {
      "cell_type": "markdown",
      "metadata": {
        "id": "76_BdPQKNkb-"
      },
      "source": [
        "# Download original weights"
      ]
    },
    {
      "cell_type": "code",
      "metadata": {
        "colab": {
          "base_uri": "https://localhost:8080/"
        },
        "id": "F27ndYBQyBa2",
        "outputId": "e02556bb-52a5-4164-decc-eb3c8118a751"
      },
      "source": [
        "!curl https://storage.googleapis.com/cloud-tpu-checkpoints/efficientnet/lite/efficientnet-lite0.tar.gz | tar xz\n",
        "!curl https://storage.googleapis.com/cloud-tpu-checkpoints/efficientnet/lite/efficientnet-lite1.tar.gz | tar xz\n",
        "!curl https://storage.googleapis.com/cloud-tpu-checkpoints/efficientnet/lite/efficientnet-lite2.tar.gz | tar xz\n",
        "!curl https://storage.googleapis.com/cloud-tpu-checkpoints/efficientnet/lite/efficientnet-lite3.tar.gz | tar xz\n",
        "!curl https://storage.googleapis.com/cloud-tpu-checkpoints/efficientnet/lite/efficientnet-lite4.tar.gz | tar xz"
      ],
      "execution_count": 5,
      "outputs": [
        {
          "output_type": "stream",
          "text": [
            "  % Total    % Received % Xferd  Average Speed   Time    Time     Time  Current\n",
            "                                 Dload  Upload   Total   Spent    Left  Speed\n",
            "100 53.5M  100 53.5M    0     0  45.5M      0  0:00:01  0:00:01 --:--:-- 45.5M\n",
            "  % Total    % Received % Xferd  Average Speed   Time    Time     Time  Current\n",
            "                                 Dload  Upload   Total   Spent    Left  Speed\n",
            "100 62.4M  100 62.4M    0     0  42.4M      0  0:00:01  0:00:01 --:--:-- 42.4M\n",
            "  % Total    % Received % Xferd  Average Speed   Time    Time     Time  Current\n",
            "                                 Dload  Upload   Total   Spent    Left  Speed\n",
            "100 70.1M  100 70.1M    0     0  52.8M      0  0:00:01  0:00:01 --:--:-- 52.8M\n",
            "  % Total    % Received % Xferd  Average Speed   Time    Time     Time  Current\n",
            "                                 Dload  Upload   Total   Spent    Left  Speed\n",
            "100 94.4M  100 94.4M    0     0  48.0M      0  0:00:01  0:00:01 --:--:-- 47.9M\n",
            "  % Total    % Received % Xferd  Average Speed   Time    Time     Time  Current\n",
            "                                 Dload  Upload   Total   Spent    Left  Speed\n",
            "100  149M  100  149M    0     0  49.3M      0  0:00:03  0:00:03 --:--:-- 49.3M\n"
          ],
          "name": "stdout"
        }
      ]
    },
    {
      "cell_type": "markdown",
      "metadata": {
        "id": "2-E-mdp5NqcK"
      },
      "source": [
        "# Download example image + labelmap"
      ]
    },
    {
      "cell_type": "code",
      "metadata": {
        "colab": {
          "base_uri": "https://localhost:8080/"
        },
        "id": "G7221WQjyLGY",
        "outputId": "92c819ba-2ff7-4f19-d630-eb5b796bbc05"
      },
      "source": [
        "!wget https://storage.googleapis.com/cloud-tpu-checkpoints/efficientnet/eval_data/labels_map.txt\n",
        "!wget https://upload.wikimedia.org/wikipedia/commons/f/fe/Giant_Panda_in_Beijing_Zoo_1.JPG -O panda.jpg"
      ],
      "execution_count": 6,
      "outputs": [
        {
          "output_type": "stream",
          "text": [
            "--2021-04-08 06:41:27--  https://storage.googleapis.com/cloud-tpu-checkpoints/efficientnet/eval_data/labels_map.txt\n",
            "Resolving storage.googleapis.com (storage.googleapis.com)... 142.250.125.128, 142.250.148.128, 209.85.200.128, ...\n",
            "Connecting to storage.googleapis.com (storage.googleapis.com)|142.250.125.128|:443... connected.\n",
            "HTTP request sent, awaiting response... 200 OK\n",
            "Length: 30565 (30K) [text/plain]\n",
            "Saving to: ‘labels_map.txt’\n",
            "\n",
            "\rlabels_map.txt        0%[                    ]       0  --.-KB/s               \rlabels_map.txt      100%[===================>]  29.85K  --.-KB/s    in 0s      \n",
            "\n",
            "2021-04-08 06:41:27 (62.2 MB/s) - ‘labels_map.txt’ saved [30565/30565]\n",
            "\n",
            "--2021-04-08 06:41:27--  https://upload.wikimedia.org/wikipedia/commons/f/fe/Giant_Panda_in_Beijing_Zoo_1.JPG\n",
            "Resolving upload.wikimedia.org (upload.wikimedia.org)... 208.80.153.240, 2620:0:860:ed1a::2:b\n",
            "Connecting to upload.wikimedia.org (upload.wikimedia.org)|208.80.153.240|:443... connected.\n",
            "HTTP request sent, awaiting response... 200 OK\n",
            "Length: 116068 (113K) [image/jpeg]\n",
            "Saving to: ‘panda.jpg’\n",
            "\n",
            "panda.jpg           100%[===================>] 113.35K  --.-KB/s    in 0.05s   \n",
            "\n",
            "2021-04-08 06:41:27 (2.17 MB/s) - ‘panda.jpg’ saved [116068/116068]\n",
            "\n"
          ],
          "name": "stdout"
        }
      ]
    },
    {
      "cell_type": "markdown",
      "metadata": {
        "id": "Vqq87ajaNult"
      },
      "source": [
        "# Run inference on sample image via Saved Model. \n",
        "\n",
        "Repeat these steps for all variants (B0, B1, B2, B3, B4)\n",
        "\n",
        "Remember to change model_name, ckpt_dir and image_size accordingly/"
      ]
    },
    {
      "cell_type": "code",
      "metadata": {
        "id": "7ovPgE3Jyd2g"
      },
      "source": [
        "!rm -rf output\n",
        "!mkdir output"
      ],
      "execution_count": 8,
      "outputs": []
    },
    {
      "cell_type": "code",
      "metadata": {
        "colab": {
          "base_uri": "https://localhost:8080/"
        },
        "id": "1Mc5P-Yxykd4",
        "outputId": "926699c0-ad39-44cf-9b5d-546ec682a12a"
      },
      "source": [
        "!python ../export_model.py \\\n",
        " --model_name=efficientnet-lite0 \\\n",
        " --ckpt_dir=/content/tpu/models/official/efficientnet/lite/efficientnet-lite0/ \\\n",
        " --output_saved_model_dir output/temp/ \\\n",
        " --image_size 224 \\\n",
        " --output_tflite=output/temp.tflite \\\n",
        " --quantize=False"
      ],
      "execution_count": 9,
      "outputs": [
        {
          "output_type": "stream",
          "text": [
            "2021-04-08 06:44:13.294873: I tensorflow/stream_executor/platform/default/dso_loader.cc:49] Successfully opened dynamic library libcudart.so.11.0\n",
            "2021-04-08 06:44:15.433813: I tensorflow/compiler/jit/xla_cpu_device.cc:41] Not creating XLA devices, tf_xla_enable_xla_devices not set\n",
            "2021-04-08 06:44:15.460489: I tensorflow/stream_executor/platform/default/dso_loader.cc:49] Successfully opened dynamic library libcuda.so.1\n",
            "2021-04-08 06:44:15.535686: E tensorflow/stream_executor/cuda/cuda_driver.cc:328] failed call to cuInit: CUDA_ERROR_NO_DEVICE: no CUDA-capable device is detected\n",
            "2021-04-08 06:44:15.535757: I tensorflow/stream_executor/cuda/cuda_diagnostics.cc:156] kernel driver does not appear to be running on this host (8b4857891db3): /proc/driver/nvidia/version does not exist\n",
            "2021-04-08 06:44:15.536340: I tensorflow/compiler/jit/xla_gpu_device.cc:99] Not creating XLA devices, tf_xla_enable_xla_devices not set\n",
            "I0408 06:44:15.556524 140170483545984 efficientnet_lite_builder.py:100] global_params= GlobalParams(batch_norm_momentum=0.99, batch_norm_epsilon=0.001, dropout_rate=0.2, data_format='channels_last', num_classes=1000, width_coefficient=1.0, depth_coefficient=1.0, depth_divisor=8, min_depth=None, survival_prob=0.8, relu_fn=<function relu6 at 0x7f7bbe51ab90>, batch_norm=<class 'utils.BatchNormalization'>, use_se=False, se_coefficient=None, local_pooling=True, condconv_num_experts=None, clip_projection_output=False, blocks_args=['r1_k3_s11_e1_i32_o16_se0.25', 'r2_k3_s22_e6_i16_o24_se0.25', 'r2_k5_s22_e6_i24_o40_se0.25', 'r3_k3_s22_e6_i40_o80_se0.25', 'r3_k5_s11_e6_i80_o112_se0.25', 'r4_k5_s22_e6_i112_o192_se0.25', 'r1_k3_s11_e6_i192_o320_se0.25'], fix_head_stem=True)\n",
            "I0408 06:44:15.573235 140170483545984 efficientnet_model.py:121] round_filter input=32 output=32\n",
            "I0408 06:44:15.573395 140170483545984 efficientnet_model.py:121] round_filter input=16 output=16\n",
            "I0408 06:44:15.599209 140170483545984 efficientnet_model.py:121] round_filter input=16 output=16\n",
            "I0408 06:44:15.599383 140170483545984 efficientnet_model.py:121] round_filter input=24 output=24\n",
            "I0408 06:44:15.650311 140170483545984 efficientnet_model.py:121] round_filter input=24 output=24\n",
            "I0408 06:44:15.650514 140170483545984 efficientnet_model.py:121] round_filter input=40 output=40\n",
            "I0408 06:44:15.705454 140170483545984 efficientnet_model.py:121] round_filter input=40 output=40\n",
            "I0408 06:44:15.705664 140170483545984 efficientnet_model.py:121] round_filter input=80 output=80\n",
            "I0408 06:44:15.781633 140170483545984 efficientnet_model.py:121] round_filter input=80 output=80\n",
            "I0408 06:44:15.781859 140170483545984 efficientnet_model.py:121] round_filter input=112 output=112\n",
            "I0408 06:44:15.857403 140170483545984 efficientnet_model.py:121] round_filter input=112 output=112\n",
            "I0408 06:44:15.857613 140170483545984 efficientnet_model.py:121] round_filter input=192 output=192\n",
            "I0408 06:44:15.965366 140170483545984 efficientnet_model.py:121] round_filter input=192 output=192\n",
            "I0408 06:44:15.965565 140170483545984 efficientnet_model.py:121] round_filter input=320 output=320\n",
            "I0408 06:44:17.904385 140170483545984 api.py:461] Built stem layers with output shape: (1, 112, 112, 32)\n",
            "I0408 06:44:19.406658 140170483545984 api.py:461] block_0 survival_prob: 1.0\n",
            "I0408 06:44:19.831487 140170483545984 api.py:461] Block mb_conv_block input shape: (1, 112, 112, 32)\n",
            "I0408 06:44:19.879746 140170483545984 api.py:461] DWConv shape: (1, 112, 112, 32)\n",
            "I0408 06:44:19.929109 140170483545984 api.py:461] Project shape: (1, 112, 112, 16)\n",
            "I0408 06:44:19.971325 140170483545984 api.py:461] block_1 survival_prob: 0.9875\n",
            "I0408 06:44:19.981903 140170483545984 api.py:461] Block mb_conv_block_1 input shape: (1, 112, 112, 16)\n",
            "I0408 06:44:20.028216 140170483545984 api.py:461] Expand shape: (1, 112, 112, 96)\n",
            "I0408 06:44:20.078447 140170483545984 api.py:461] DWConv shape: (1, 56, 56, 96)\n",
            "I0408 06:44:20.128542 140170483545984 api.py:461] Project shape: (1, 56, 56, 24)\n",
            "I0408 06:44:20.140741 140170483545984 api.py:461] block_2 survival_prob: 0.975\n",
            "I0408 06:44:20.151066 140170483545984 api.py:461] Block mb_conv_block_2 input shape: (1, 56, 56, 24)\n",
            "I0408 06:44:20.197185 140170483545984 api.py:461] Expand shape: (1, 56, 56, 144)\n",
            "I0408 06:44:20.244963 140170483545984 api.py:461] DWConv shape: (1, 56, 56, 144)\n",
            "I0408 06:44:20.369268 140170483545984 api.py:461] Project shape: (1, 56, 56, 24)\n",
            "I0408 06:44:20.380861 140170483545984 api.py:461] block_3 survival_prob: 0.9625\n",
            "I0408 06:44:20.391205 140170483545984 api.py:461] Block mb_conv_block_3 input shape: (1, 56, 56, 24)\n",
            "I0408 06:44:20.442303 140170483545984 api.py:461] Expand shape: (1, 56, 56, 144)\n",
            "I0408 06:44:20.491054 140170483545984 api.py:461] DWConv shape: (1, 28, 28, 144)\n",
            "I0408 06:44:20.541598 140170483545984 api.py:461] Project shape: (1, 28, 28, 40)\n",
            "I0408 06:44:20.553009 140170483545984 api.py:461] block_4 survival_prob: 0.95\n",
            "I0408 06:44:20.563164 140170483545984 api.py:461] Block mb_conv_block_4 input shape: (1, 28, 28, 40)\n",
            "I0408 06:44:20.618757 140170483545984 api.py:461] Expand shape: (1, 28, 28, 240)\n",
            "I0408 06:44:20.676225 140170483545984 api.py:461] DWConv shape: (1, 28, 28, 240)\n",
            "I0408 06:44:20.731957 140170483545984 api.py:461] Project shape: (1, 28, 28, 40)\n",
            "I0408 06:44:20.743438 140170483545984 api.py:461] block_5 survival_prob: 0.9375\n",
            "I0408 06:44:20.753854 140170483545984 api.py:461] Block mb_conv_block_5 input shape: (1, 28, 28, 40)\n",
            "I0408 06:44:20.806069 140170483545984 api.py:461] Expand shape: (1, 28, 28, 240)\n",
            "I0408 06:44:20.865977 140170483545984 api.py:461] DWConv shape: (1, 14, 14, 240)\n",
            "I0408 06:44:20.924662 140170483545984 api.py:461] Project shape: (1, 14, 14, 80)\n",
            "I0408 06:44:20.937268 140170483545984 api.py:461] block_6 survival_prob: 0.925\n",
            "I0408 06:44:20.948083 140170483545984 api.py:461] Block mb_conv_block_6 input shape: (1, 14, 14, 80)\n",
            "I0408 06:44:21.005081 140170483545984 api.py:461] Expand shape: (1, 14, 14, 480)\n",
            "I0408 06:44:21.072386 140170483545984 api.py:461] DWConv shape: (1, 14, 14, 480)\n",
            "I0408 06:44:21.132539 140170483545984 api.py:461] Project shape: (1, 14, 14, 80)\n",
            "I0408 06:44:21.145141 140170483545984 api.py:461] block_7 survival_prob: 0.9125\n",
            "I0408 06:44:21.155520 140170483545984 api.py:461] Block mb_conv_block_7 input shape: (1, 14, 14, 80)\n",
            "I0408 06:44:21.211641 140170483545984 api.py:461] Expand shape: (1, 14, 14, 480)\n",
            "I0408 06:44:21.279777 140170483545984 api.py:461] DWConv shape: (1, 14, 14, 480)\n",
            "I0408 06:44:21.338980 140170483545984 api.py:461] Project shape: (1, 14, 14, 80)\n",
            "I0408 06:44:21.350634 140170483545984 api.py:461] block_8 survival_prob: 0.9\n",
            "I0408 06:44:21.360925 140170483545984 api.py:461] Block mb_conv_block_8 input shape: (1, 14, 14, 80)\n",
            "I0408 06:44:21.419529 140170483545984 api.py:461] Expand shape: (1, 14, 14, 480)\n",
            "I0408 06:44:21.483252 140170483545984 api.py:461] DWConv shape: (1, 14, 14, 480)\n",
            "I0408 06:44:21.548098 140170483545984 api.py:461] Project shape: (1, 14, 14, 112)\n",
            "I0408 06:44:21.559748 140170483545984 api.py:461] block_9 survival_prob: 0.8875000000000001\n",
            "I0408 06:44:21.569978 140170483545984 api.py:461] Block mb_conv_block_9 input shape: (1, 14, 14, 112)\n",
            "I0408 06:44:21.630327 140170483545984 api.py:461] Expand shape: (1, 14, 14, 672)\n",
            "I0408 06:44:21.691088 140170483545984 api.py:461] DWConv shape: (1, 14, 14, 672)\n",
            "I0408 06:44:21.758861 140170483545984 api.py:461] Project shape: (1, 14, 14, 112)\n",
            "I0408 06:44:21.770660 140170483545984 api.py:461] block_10 survival_prob: 0.875\n",
            "I0408 06:44:21.782745 140170483545984 api.py:461] Block mb_conv_block_10 input shape: (1, 14, 14, 112)\n",
            "I0408 06:44:21.852229 140170483545984 api.py:461] Expand shape: (1, 14, 14, 672)\n",
            "I0408 06:44:21.918438 140170483545984 api.py:461] DWConv shape: (1, 14, 14, 672)\n",
            "I0408 06:44:21.984149 140170483545984 api.py:461] Project shape: (1, 14, 14, 112)\n",
            "I0408 06:44:21.998422 140170483545984 api.py:461] block_11 survival_prob: 0.8625\n",
            "I0408 06:44:22.008619 140170483545984 api.py:461] Block mb_conv_block_11 input shape: (1, 14, 14, 112)\n",
            "I0408 06:44:22.076026 140170483545984 api.py:461] Expand shape: (1, 14, 14, 672)\n",
            "I0408 06:44:22.152820 140170483545984 api.py:461] DWConv shape: (1, 7, 7, 672)\n",
            "I0408 06:44:22.217696 140170483545984 api.py:461] Project shape: (1, 7, 7, 192)\n",
            "I0408 06:44:22.229939 140170483545984 api.py:461] block_12 survival_prob: 0.8500000000000001\n",
            "I0408 06:44:22.240528 140170483545984 api.py:461] Block mb_conv_block_12 input shape: (1, 7, 7, 192)\n",
            "I0408 06:44:22.312957 140170483545984 api.py:461] Expand shape: (1, 7, 7, 1152)\n",
            "I0408 06:44:22.388164 140170483545984 api.py:461] DWConv shape: (1, 7, 7, 1152)\n",
            "I0408 06:44:22.456944 140170483545984 api.py:461] Project shape: (1, 7, 7, 192)\n",
            "I0408 06:44:22.470712 140170483545984 api.py:461] block_13 survival_prob: 0.8375\n",
            "I0408 06:44:22.483510 140170483545984 api.py:461] Block mb_conv_block_13 input shape: (1, 7, 7, 192)\n",
            "I0408 06:44:22.557189 140170483545984 api.py:461] Expand shape: (1, 7, 7, 1152)\n",
            "I0408 06:44:22.632725 140170483545984 api.py:461] DWConv shape: (1, 7, 7, 1152)\n",
            "I0408 06:44:22.712845 140170483545984 api.py:461] Project shape: (1, 7, 7, 192)\n",
            "I0408 06:44:22.725461 140170483545984 api.py:461] block_14 survival_prob: 0.8250000000000001\n",
            "I0408 06:44:22.736919 140170483545984 api.py:461] Block mb_conv_block_14 input shape: (1, 7, 7, 192)\n",
            "I0408 06:44:22.817300 140170483545984 api.py:461] Expand shape: (1, 7, 7, 1152)\n",
            "I0408 06:44:22.896237 140170483545984 api.py:461] DWConv shape: (1, 7, 7, 1152)\n",
            "I0408 06:44:22.977582 140170483545984 api.py:461] Project shape: (1, 7, 7, 192)\n",
            "I0408 06:44:22.989765 140170483545984 api.py:461] block_15 survival_prob: 0.8125\n",
            "I0408 06:44:23.001830 140170483545984 api.py:461] Block mb_conv_block_15 input shape: (1, 7, 7, 192)\n",
            "I0408 06:44:23.164651 140170483545984 api.py:461] Expand shape: (1, 7, 7, 1152)\n",
            "I0408 06:44:23.248057 140170483545984 api.py:461] DWConv shape: (1, 7, 7, 1152)\n",
            "I0408 06:44:23.321702 140170483545984 api.py:461] Project shape: (1, 7, 7, 320)\n",
            "2021-04-08 06:44:23.493635: I tensorflow/compiler/mlir/mlir_graph_optimization_pass.cc:196] None of the MLIR optimization passes are enabled (registered 0 passes)\n",
            "2021-04-08 06:44:23.528074: I tensorflow/core/platform/profile_utils/cpu_utils.cc:112] CPU Frequency: 2299995000 Hz\n",
            "INFO:tensorflow:Restoring parameters from /content/tpu/models/official/efficientnet/lite/efficientnet-lite0/model.ckpt\n",
            "I0408 06:44:24.550945 140170483545984 saver.py:1292] Restoring parameters from /content/tpu/models/official/efficientnet/lite/efficientnet-lite0/model.ckpt\n",
            "WARNING:tensorflow:From /usr/local/lib/python3.7/dist-packages/tensorflow/python/saved_model/signature_def_utils_impl.py:201: build_tensor_info (from tensorflow.python.saved_model.utils_impl) is deprecated and will be removed in a future version.\n",
            "Instructions for updating:\n",
            "This function will only be available through the v1 compatibility library as tf.compat.v1.saved_model.utils.build_tensor_info or tf.compat.v1.saved_model.build_tensor_info.\n",
            "W0408 06:44:24.735705 140170483545984 deprecation.py:339] From /usr/local/lib/python3.7/dist-packages/tensorflow/python/saved_model/signature_def_utils_impl.py:201: build_tensor_info (from tensorflow.python.saved_model.utils_impl) is deprecated and will be removed in a future version.\n",
            "Instructions for updating:\n",
            "This function will only be available through the v1 compatibility library as tf.compat.v1.saved_model.utils.build_tensor_info or tf.compat.v1.saved_model.build_tensor_info.\n",
            "INFO:tensorflow:No assets to save.\n",
            "I0408 06:44:24.736826 140170483545984 builder_impl.py:641] No assets to save.\n",
            "INFO:tensorflow:No assets to write.\n",
            "I0408 06:44:24.736984 140170483545984 builder_impl.py:461] No assets to write.\n",
            "INFO:tensorflow:SavedModel written to: output/temp/saved_model.pb\n",
            "I0408 06:44:25.399749 140170483545984 builder_impl.py:426] SavedModel written to: output/temp/saved_model.pb\n",
            "Saved model written to output/temp/\n",
            "2021-04-08 06:44:25.457390: I tensorflow/core/grappler/devices.cc:69] Number of eligible GPUs (core count >= 8, compute capability >= 0.0): 0\n",
            "2021-04-08 06:44:25.457628: I tensorflow/core/grappler/clusters/single_machine.cc:356] Starting new session\n",
            "2021-04-08 06:44:25.458016: I tensorflow/compiler/jit/xla_gpu_device.cc:99] Not creating XLA devices, tf_xla_enable_xla_devices not set\n",
            "2021-04-08 06:44:25.494375: I tensorflow/core/grappler/optimizers/meta_optimizer.cc:928] Optimization results for grappler item: graph_to_optimize\n",
            "  function_optimizer: function_optimizer did nothing. time = 0.003ms.\n",
            "  function_optimizer: function_optimizer did nothing. time = 0ms.\n",
            "\n",
            "WARNING:tensorflow:From /usr/local/lib/python3.7/dist-packages/tensorflow/lite/python/util.py:327: convert_variables_to_constants (from tensorflow.python.framework.graph_util_impl) is deprecated and will be removed in a future version.\n",
            "Instructions for updating:\n",
            "Use `tf.compat.v1.graph_util.convert_variables_to_constants`\n",
            "W0408 06:44:25.557474 140170483545984 deprecation.py:339] From /usr/local/lib/python3.7/dist-packages/tensorflow/lite/python/util.py:327: convert_variables_to_constants (from tensorflow.python.framework.graph_util_impl) is deprecated and will be removed in a future version.\n",
            "Instructions for updating:\n",
            "Use `tf.compat.v1.graph_util.convert_variables_to_constants`\n",
            "WARNING:tensorflow:From /usr/local/lib/python3.7/dist-packages/tensorflow/python/framework/convert_to_constants.py:856: extract_sub_graph (from tensorflow.python.framework.graph_util_impl) is deprecated and will be removed in a future version.\n",
            "Instructions for updating:\n",
            "Use `tf.compat.v1.graph_util.extract_sub_graph`\n",
            "W0408 06:44:25.557988 140170483545984 deprecation.py:339] From /usr/local/lib/python3.7/dist-packages/tensorflow/python/framework/convert_to_constants.py:856: extract_sub_graph (from tensorflow.python.framework.graph_util_impl) is deprecated and will be removed in a future version.\n",
            "Instructions for updating:\n",
            "Use `tf.compat.v1.graph_util.extract_sub_graph`\n",
            "I0408 06:44:25.995728 140170483545984 lite.py:1286] Using experimental converter: If you encountered a problem please file a bug. You can opt-out by setting experimental_new_converter=False\n",
            "2021-04-08 06:44:26.071448: W tensorflow/compiler/mlir/lite/python/tf_tfl_flatbuffer_helpers.cc:316] Ignored output_format.\n",
            "2021-04-08 06:44:26.071531: W tensorflow/compiler/mlir/lite/python/tf_tfl_flatbuffer_helpers.cc:319] Ignored drop_control_dependency.\n",
            "2021-04-08 06:44:26.255688: I tensorflow/compiler/jit/xla_gpu_device.cc:99] Not creating XLA devices, tf_xla_enable_xla_devices not set\n",
            "tflite model written to output/temp.tflite\n"
          ],
          "name": "stdout"
        }
      ]
    },
    {
      "cell_type": "code",
      "metadata": {
        "id": "VwBZ65JUzDPI"
      },
      "source": [
        "import tensorflow as tf\n",
        "import numpy as np"
      ],
      "execution_count": 10,
      "outputs": []
    },
    {
      "cell_type": "code",
      "metadata": {
        "id": "StIYpN3bzsno"
      },
      "source": [
        "m = tf.saved_model.load(\"output/temp\")"
      ],
      "execution_count": 11,
      "outputs": []
    },
    {
      "cell_type": "code",
      "metadata": {
        "colab": {
          "base_uri": "https://localhost:8080/"
        },
        "id": "_V_IaxnVzv7d",
        "outputId": "ee7aff4a-553a-41f4-86cb-22e6de9dad47"
      },
      "source": [
        "img = tf.image.decode_jpeg(tf.io.read_file(\"panda.jpg\"))\n",
        "img = tf.image.resize(img, (224, 224))  # Remember to change this too.\n",
        "img = tf.expand_dims(img, axis=0)\n",
        "img.shape"
      ],
      "execution_count": 12,
      "outputs": [
        {
          "output_type": "execute_result",
          "data": {
            "text/plain": [
              "TensorShape([1, 224, 224, 3])"
            ]
          },
          "metadata": {
            "tags": []
          },
          "execution_count": 12
        }
      ]
    },
    {
      "cell_type": "code",
      "metadata": {
        "id": "eVL-Ba4r1b8c"
      },
      "source": [
        "# Persumed preprocessing\n",
        "img = (img - 127.00) / 128.00"
      ],
      "execution_count": 13,
      "outputs": []
    },
    {
      "cell_type": "code",
      "metadata": {
        "id": "OJyDmzPWvLBb"
      },
      "source": [
        "out = m.signatures['serving_default'](img)"
      ],
      "execution_count": 14,
      "outputs": []
    },
    {
      "cell_type": "code",
      "metadata": {
        "colab": {
          "base_uri": "https://localhost:8080/"
        },
        "id": "XflFKkMp1mvg",
        "outputId": "7fb85291-cffe-4a4e-a125-eca501da43ab"
      },
      "source": [
        "print(tf.reduce_max(out['output']))\n",
        "print(tf.argmax(out['output'], axis=1))"
      ],
      "execution_count": 15,
      "outputs": [
        {
          "output_type": "stream",
          "text": [
            "tf.Tensor(0.9809975, shape=(), dtype=float32)\n",
            "tf.Tensor([388], shape=(1,), dtype=int64)\n"
          ],
          "name": "stdout"
        }
      ]
    },
    {
      "cell_type": "code",
      "metadata": {
        "id": "ceitDrN-vO1l"
      },
      "source": [
        "# Todo: make this:\n",
        "np.save(\"/content/b0_lite_output_224.npy\", out['output'].numpy())"
      ],
      "execution_count": 16,
      "outputs": []
    },
    {
      "cell_type": "markdown",
      "metadata": {
        "id": "ETJLDjxbOxDl"
      },
      "source": [
        "# Download outputs after running inference will all models:"
      ]
    },
    {
      "cell_type": "code",
      "metadata": {
        "colab": {
          "base_uri": "https://localhost:8080/"
        },
        "id": "yClyQA7y3EeJ",
        "outputId": "bfc70873-6c1d-4060-f46b-781b96f5720c"
      },
      "source": [
        "%cd /content/"
      ],
      "execution_count": 17,
      "outputs": [
        {
          "output_type": "stream",
          "text": [
            "/content\n"
          ],
          "name": "stdout"
        }
      ]
    },
    {
      "cell_type": "code",
      "metadata": {
        "id": "f_CY1ks6vgiY",
        "colab": {
          "base_uri": "https://localhost:8080/"
        },
        "outputId": "46d4b4ed-900c-4761-f64c-9100f21ec50e"
      },
      "source": [
        "!tar czvf original_outs_w_preprocessing.tar.gz b0_lite_output_224.npy b1_lite_output_240.npy b2_lite_output_260.npy b3_lite_output_280.npy b4_lite_output_300.npy"
      ],
      "execution_count": 20,
      "outputs": [
        {
          "output_type": "stream",
          "text": [
            "b0_lite_output_224.npy\n"
          ],
          "name": "stdout"
        }
      ]
    },
    {
      "cell_type": "code",
      "metadata": {
        "id": "oXIjiufC3BGP"
      },
      "source": [
        ""
      ],
      "execution_count": null,
      "outputs": []
    }
  ]
}