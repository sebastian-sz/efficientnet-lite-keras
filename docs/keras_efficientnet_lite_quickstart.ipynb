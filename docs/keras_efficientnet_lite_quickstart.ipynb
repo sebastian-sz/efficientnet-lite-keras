{
  "nbformat": 4,
  "nbformat_minor": 0,
  "metadata": {
    "colab": {
      "name": "keras-efficientnet-lite-quickstart.ipynb",
      "provenance": [],
      "collapsed_sections": []
    },
    "kernelspec": {
      "name": "python3",
      "display_name": "Python 3"
    }
  },
  "cells": [
    {
      "cell_type": "markdown",
      "metadata": {
        "id": "n9rBVh9Y3mIx"
      },
      "source": [
        "### Installation\n",
        "\n",
        "Run below cell to install the module:"
      ]
    },
    {
      "cell_type": "code",
      "metadata": {
        "id": "bbjnQVXDa9xC",
        "colab": {
          "base_uri": "https://localhost:8080/"
        },
        "outputId": "51239674-0939-432c-a0f1-d6af0a79ed82"
      },
      "source": [
        "!pip install -q git+https://github.com/sebastian-sz/efficientnet-lite-keras@main"
      ],
      "execution_count": 2,
      "outputs": [
        {
          "output_type": "stream",
          "text": [
            "  Building wheel for efficientnet-lite-keras (setup.py) ... \u001b[?25l\u001b[?25hdone\n"
          ],
          "name": "stdout"
        }
      ]
    },
    {
      "cell_type": "code",
      "metadata": {
        "id": "BzOrfPlmfXLB",
        "colab": {
          "base_uri": "https://localhost:8080/"
        },
        "outputId": "21dd938f-0f8f-4cef-a71a-bccd2bbf4a95"
      },
      "source": [
        "import os\n",
        "\n",
        "import tensorflow as tf\n",
        "from efficientnet_lite import EfficientNetLiteB0\n",
        "\n",
        "\n",
        "print(tf.__version__)"
      ],
      "execution_count": 3,
      "outputs": [
        {
          "output_type": "stream",
          "text": [
            "2.5.0\n"
          ],
          "name": "stdout"
        }
      ]
    },
    {
      "cell_type": "markdown",
      "metadata": {
        "id": "akdGp68W3kkB"
      },
      "source": [
        "### Download example dataset\n",
        "\n",
        "In this section we are going to download example dataset."
      ]
    },
    {
      "cell_type": "code",
      "metadata": {
        "id": "ifLKYJWw6caH",
        "colab": {
          "base_uri": "https://localhost:8080/"
        },
        "outputId": "2c4f6ebd-e5ba-48cf-ba29-3aed562117fe"
      },
      "source": [
        "!curl https://storage.googleapis.com/download.tensorflow.org/example_images/flower_photos.tgz | tar xz"
      ],
      "execution_count": 4,
      "outputs": [
        {
          "output_type": "stream",
          "text": [
            "  % Total    % Received % Xferd  Average Speed   Time    Time     Time  Current\n",
            "                                 Dload  Upload   Total   Spent    Left  Speed\n",
            "100  218M  100  218M    0     0  69.6M      0  0:00:03  0:00:03 --:--:-- 69.6M\n"
          ],
          "name": "stdout"
        }
      ]
    },
    {
      "cell_type": "markdown",
      "metadata": {
        "id": "HVQ0hBfG7OcN"
      },
      "source": [
        "Remove the License file so it doesn't mess up directory structure:"
      ]
    },
    {
      "cell_type": "code",
      "metadata": {
        "id": "ULjj5wLY68Ud"
      },
      "source": [
        "!rm flower_photos/LICENSE.txt"
      ],
      "execution_count": 5,
      "outputs": []
    },
    {
      "cell_type": "markdown",
      "metadata": {
        "id": "jnraEsH97Zpz"
      },
      "source": [
        "Preview Class names:"
      ]
    },
    {
      "cell_type": "code",
      "metadata": {
        "id": "MpSgfUa47ZAf",
        "colab": {
          "base_uri": "https://localhost:8080/"
        },
        "outputId": "d9e4e3be-36a1-4cdc-eb26-7f3f8ce5eb01"
      },
      "source": [
        "!ls flower_photos"
      ],
      "execution_count": 6,
      "outputs": [
        {
          "output_type": "stream",
          "text": [
            "daisy  dandelion  roses  sunflowers  tulips\n"
          ],
          "name": "stdout"
        }
      ]
    },
    {
      "cell_type": "markdown",
      "metadata": {
        "id": "aWPITuh-7fwm"
      },
      "source": [
        "### Load the data:"
      ]
    },
    {
      "cell_type": "code",
      "metadata": {
        "id": "p2VDNQOa7itl"
      },
      "source": [
        "DATA_PATH = \"./flower_photos\"\n",
        "BATCH_SIZE = 32\n",
        "TARGET_SIZE = (224, 224)\n",
        "\n",
        "\n",
        "def preprocess_data(images, labels):\n",
        "    images = (images - 127.00) / 128.00\n",
        "    return images, labels\n",
        "\n",
        "\n",
        "def augment_data(images, labels):\n",
        "    return tf.image.random_flip_left_right(image), label"
      ],
      "execution_count": 7,
      "outputs": []
    },
    {
      "cell_type": "code",
      "metadata": {
        "id": "an2pwW5O7ykd",
        "colab": {
          "base_uri": "https://localhost:8080/"
        },
        "outputId": "3b4209a7-a26f-4756-93fc-74de97f2544c"
      },
      "source": [
        "dataset = tf.keras.preprocessing.image_dataset_from_directory(\n",
        "    directory=DATA_PATH,\n",
        "    batch_size=BATCH_SIZE,\n",
        "    image_size=TARGET_SIZE,\n",
        "    label_mode=\"categorical\"\n",
        ")\n"
      ],
      "execution_count": 11,
      "outputs": [
        {
          "output_type": "stream",
          "text": [
            "Found 3670 files belonging to 5 classes.\n"
          ],
          "name": "stdout"
        }
      ]
    },
    {
      "cell_type": "code",
      "metadata": {
        "id": "zqUlm1-_8awz",
        "colab": {
          "base_uri": "https://localhost:8080/"
        },
        "outputId": "63a87834-265e-4df9-c481-ad117a06205a"
      },
      "source": [
        "for image_batch, label_batch in dataset.take(1):\n",
        "    print(image_batch.shape)\n",
        "    print(label_batch.shape)"
      ],
      "execution_count": 12,
      "outputs": [
        {
          "output_type": "stream",
          "text": [
            "(32, 224, 224, 3)\n",
            "(32, 5)\n"
          ],
          "name": "stdout"
        }
      ]
    },
    {
      "cell_type": "markdown",
      "metadata": {
        "id": "H7F_Ns_X-4tt"
      },
      "source": [
        "### Train \n",
        "\n",
        "Let us fine tune Efficient Net Lite."
      ]
    },
    {
      "cell_type": "code",
      "metadata": {
        "id": "S1ILFlN2_ATx"
      },
      "source": [
        "def build_model(num_classes=5):\n",
        "    base_model = EfficientNetLiteB0(\n",
        "        input_shape=(TARGET_SIZE[0], TARGET_SIZE[1], 3),\n",
        "        include_top=False,\n",
        "        pooling=\"avg\",\n",
        "        weights=\"imagenet\"\n",
        "    )\n",
        "\n",
        "    base_model.trainable=False\n",
        "\n",
        "    return tf.keras.Sequential([\n",
        "        base_model,\n",
        "        tf.keras.layers.Dropout(0.2),\n",
        "        tf.keras.layers.Dense(num_classes, activation=\"softmax\")\n",
        "    ])"
      ],
      "execution_count": 13,
      "outputs": []
    },
    {
      "cell_type": "code",
      "metadata": {
        "id": "tUjspUDr_qLj",
        "colab": {
          "base_uri": "https://localhost:8080/"
        },
        "outputId": "a81e839c-db9c-438a-aa70-9efeedbd0fb8"
      },
      "source": [
        "model = build_model()\n",
        "model.compile(\n",
        "    optimizer=tf.keras.optimizers.RMSprop(),\n",
        "    loss=tf.keras.losses.CategoricalCrossentropy(from_logits=False),\n",
        "    metrics=['accuracy']\n",
        ")\n",
        "\n",
        "model.summary()"
      ],
      "execution_count": 14,
      "outputs": [
        {
          "output_type": "stream",
          "text": [
            "Downloading data from https://www.dropbox.com/s/10cjg2rp2425j9p/efficient_net_lite_b0_notop.h5?dl=1\n",
            "14024704/14023984 [==============================] - 0s 0us/step\n",
            "Model: \"sequential\"\n",
            "_________________________________________________________________\n",
            "Layer (type)                 Output Shape              Param #   \n",
            "=================================================================\n",
            "efficientnetlite0 (Functiona (None, 1280)              3413024   \n",
            "_________________________________________________________________\n",
            "dropout (Dropout)            (None, 1280)              0         \n",
            "_________________________________________________________________\n",
            "dense (Dense)                (None, 5)                 6405      \n",
            "=================================================================\n",
            "Total params: 3,419,429\n",
            "Trainable params: 6,405\n",
            "Non-trainable params: 3,413,024\n",
            "_________________________________________________________________\n"
          ],
          "name": "stdout"
        }
      ]
    },
    {
      "cell_type": "code",
      "metadata": {
        "id": "H_eqpJNaAFT1",
        "colab": {
          "base_uri": "https://localhost:8080/"
        },
        "outputId": "212cb7e2-69d5-4b67-cf08-7d2fe6a96d9f"
      },
      "source": [
        "model.fit(\n",
        "    dataset,\n",
        "    epochs=1,\n",
        ")"
      ],
      "execution_count": 15,
      "outputs": [
        {
          "output_type": "stream",
          "text": [
            "115/115 [==============================] - 151s 1s/step - loss: 1.1772 - accuracy: 0.5390\n"
          ],
          "name": "stdout"
        },
        {
          "output_type": "execute_result",
          "data": {
            "text/plain": [
              "<tensorflow.python.keras.callbacks.History at 0x7ff7c3a518d0>"
            ]
          },
          "metadata": {
            "tags": []
          },
          "execution_count": 15
        }
      ]
    }
  ]
}
